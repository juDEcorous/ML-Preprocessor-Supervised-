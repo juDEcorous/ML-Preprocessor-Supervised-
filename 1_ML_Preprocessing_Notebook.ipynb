{
  "cells": [
    {
      "cell_type": "markdown",
      "metadata": {
        "id": "view-in-github",
        "colab_type": "text"
      },
      "source": [
        "<a href=\"https://colab.research.google.com/github/juDEcorous/Machine-Learning-Fundamentals/blob/main/1_ML_Preprocessing_Notebook.ipynb\" target=\"_parent\"><img src=\"https://colab.research.google.com/assets/colab-badge.svg\" alt=\"Open In Colab\"/></a>"
      ]
    },
    {
      "cell_type": "markdown",
      "id": "1a57c7e3",
      "metadata": {
        "id": "1a57c7e3"
      },
      "source": [
        "# ML Preprocessing\n",
        "\n",
        "Supervised Learning\n",
        "- <i>The goal of supervised learning problems is to be able to make predictions based on the dataset you are provided. Which model performs well on new data.\n",
        "- Has a target variable to learn patterns, fitting a “if this - then that” pattern.\n",
        "\n",
        "## Feature Matrix and Target Vector"
      ]
    },
    {
      "cell_type": "code",
      "execution_count": null,
      "id": "533ee90e",
      "metadata": {
        "id": "533ee90e"
      },
      "outputs": [],
      "source": [
        "# Target\n",
        "target = 'The target is the column we are trying to predict.'\n",
        "\n",
        "# Target Vector\n",
        "# A target vector is one dimensional and is the column you want to predict.\n",
        "# Returns type as \"Series\"\n",
        "y = df[target]\n",
        "\n",
        "# Feature Matrix\n",
        "# A features matrix is a two-dimensional grid of data \n",
        "# where rows representsamples and columns represent features.\n",
        "# returns type as \"DataFrame\""
      ]
    },
    {
      "cell_type": "markdown",
      "id": "c4762727",
      "metadata": {
        "id": "c4762727"
      },
      "source": [
        "## Model Validation\n",
        "Model validation is referred to as the process where a trained model is evaluated with a testing data set. The model validation procedure used in this section is called train test split. Below is how train test split works.\n",
        "- Split the dataset into two separate datasets: a training set and a testing set. The default split results in about 75% of the data going to your training set and about 25% going to your test set.\n",
        "- Train the model on the training set only!\n",
        "- Test the model on the testing set and evaluate the performance to simulate how it would do on new data that it did NOT train on."
      ]
    },
    {
      "cell_type": "code",
      "execution_count": null,
      "id": "8b1acd5b",
      "metadata": {
        "id": "8b1acd5b"
      },
      "outputs": [],
      "source": []
    },
    {
      "cell_type": "code",
      "execution_count": null,
      "id": "4095486b",
      "metadata": {
        "id": "4095486b"
      },
      "outputs": [],
      "source": [
        "# Import the TTS from sklearn\n",
        "from sklearn.model_selection import train_test_split\n",
        "\n",
        "# Train test split \n",
        "X_train, X_test, y_train, y_test = train_test_split(X, y, random_state=42)"
      ]
    },
    {
      "cell_type": "markdown",
      "id": "5e7f43d9",
      "metadata": {
        "id": "5e7f43d9"
      },
      "source": [
        "Four New Variables:\n",
        "\n",
        "From our original X dataframe, we get two new dataframes:\n",
        "\n",
        "<b> X_train </b> is the data we will use to train the model and contains only the features </br>\n",
        "<b> X_test </b> is the data we set aside for testing (evaluating) our model and contains only features\n",
        "\n",
        "From our original y series, we get two new series:\n",
        "\n",
        "<b>y_train</b> contains the target values for the data corresponding to the X_train features</br>\n",
        "<b>y_test</b> contains the target values for the data we have set aside for testing corresponding to the X_test feautres"
      ]
    },
    {
      "cell_type": "markdown",
      "id": "847b1ea2",
      "metadata": {
        "id": "847b1ea2"
      },
      "source": [
        "## Missing Values\n",
        "Instantiate an Imputer </br>\n",
        "Strategies:\n",
        "1. Mean\n",
        "2. Median\n",
        "4. Most Frequent\n",
        "4. Constant (fill_value = 'Value')"
      ]
    },
    {
      "cell_type": "code",
      "execution_count": null,
      "id": "8255ee6a",
      "metadata": {
        "id": "8255ee6a"
      },
      "outputs": [],
      "source": [
        "# Import SimpleImputer from sklearn\n",
        "from sklearn.imputer import SimpleImputer\n",
        "\n",
        "# Imputer using mean value\n",
        "mean_imputer = SimpleImputer(strategy = 'mean')\n",
        "\n",
        "#Imputer using median value\n",
        "median_imputer = SimpleImputer(strategy = 'median')\n",
        "\n",
        "#Imputer using most frequent values\n",
        "freq_imputer = SimpleImputer(strategy = 'most_frequent')\n",
        "\n",
        "#Imputer using \"missing\" as value\n",
        "missing_imputer = SimpleImputer(strategy = 'constant', fill_value = 'Missing')"
      ]
    },
    {
      "cell_type": "markdown",
      "id": "d6cedd5d",
      "metadata": {
        "id": "d6cedd5d"
      },
      "source": [
        "Three Types of Features\n",
        "1. <b>Numeric Features</b> are integers or floats that represent a quantity. They can also be referred to as quantitative features.\n",
        "2. <b>Ordinal Features</b> are categories that represent different classes and that have a distinct ordering. They can be strings or integers if the integer represents an ordered class.\n",
        "3.<b> Categorical Features</b> (nominal) are categories that represent different classes. They are not ordered.They can be strings or integers if the integer represents a non-ordered class."
      ]
    },
    {
      "cell_type": "markdown",
      "id": "58036004",
      "metadata": {
        "id": "58036004"
      },
      "source": [
        "## Transforming Features for Machine learning\n",
        "\n",
        "In order for features to be interpreted by a machine learning algorithm, the data must be in a numeric form (integers or floats).\n",
        "\n",
        "<b>Transforming Numeric Features \n",
        "\n",
        "These are already in a numeric format so can be used without further transformation. However, it is very common and sometimes required, to scale numerical features.\n",
        "\n",
        "<b>Transforming Ordinal Features\n",
        "\n",
        "If they are strings, they will need to be mapped to numeric values representing the order of the classes. </br>\n",
        "0 is small, 1 is medium, 2 is large, and 3 is extra large.\n",
        "\n",
        "<b>Transforming Categorical (Nominal) Features\n",
        "\n",
        "You need to be careful when your categories are unordered. It is not sufficient to simply map each class to a number as can be done with ordinal features. This is because machine learning models will interpret higher numbers as having a higher value than lower numbers. To deal with this, we can one-hot encode our categories. What this does is creates a binary column for each class in the column."
      ]
    },
    {
      "cell_type": "markdown",
      "id": "1cb6e73e",
      "metadata": {
        "id": "1cb6e73e"
      },
      "source": [
        "### Standardizing Data \n",
        "When the scaler fits on data it calculates the means and standard deviations of each feature. Then the scaler can be used to transform both the training and test sets based on the calculations done during the fit step. This means that the average and variance (standard deviation) will be calculated using only the training data because we want to keep information in the test data, including information about means and variances, reserved for only the final model evaluation. </br> The scaling of target values (y) is generally not required."
      ]
    },
    {
      "cell_type": "code",
      "execution_count": null,
      "id": "4f060f6b",
      "metadata": {
        "id": "4f060f6b"
      },
      "outputs": [],
      "source": [
        "# Import the StandardScaler from sklearn\n",
        "from sklearn.preprocessing import StandardScaler\n",
        "\n",
        "# instantiate scaler\n",
        "scaler = StandardScaler()"
      ]
    },
    {
      "cell_type": "markdown",
      "id": "e85ff5cd",
      "metadata": {
        "id": "e85ff5cd"
      },
      "source": [
        "### One-Hot Encoding\n",
        "In order to represent non-ordered, or 'nominal' features, we do the following:\n",
        "1. Create a new column for every category present in the feature.\n",
        "\n",
        "2. Set the value of each of the new columns to 1 if that row corresponds to the original category.\n",
        "\n",
        "3. Set the value of each of the new columns to 0 if they do not.\n",
        "\n",
        "4. Remove the original column.\n",
        "![Screenshot%202023-04-19%20162214.png](attachment:Screenshot%202023-04-19%20162214.png)\n",
        "\n",
        "sparse = False\n",
        "\n",
        "By default, it will return what is called a 'sparse matrix'. This is a form of data compression used when arrays are mostly filled with 0s. Instead of keeping track of so many 0s, the compressed version just has information about where the data is NOT 0. This is great for saving memory! But not great if we want to use the data in a new dataframe. We can get OneHotEncoder to return a normal array that is compatible with pandas, called a ‘Dense’ array by specifying ‘sparse=False’ inside our OneHotEncoder.\n",
        "\n",
        "handle_unknown ='ignore'\n",
        "\n",
        "OneHotEncoder is a transformer like StandardScaler. When we use it we will:\n",
        "\n",
        "1. Fit the OneHotEncoder ONLY on the categorical training data.\n",
        "\n",
        "2. Transform the categorical training data to a one-hot encoded form.\n",
        "\n",
        "3. Transform the categorical testing data to a one-hot encoded form."
      ]
    },
    {
      "cell_type": "code",
      "execution_count": null,
      "id": "8bd889dc",
      "metadata": {
        "id": "8bd889dc"
      },
      "outputs": [],
      "source": [
        "# Import One-Hot Encoder from sklearn\n",
        "from sklearn.preprocessing import OneHotEncoder\n",
        "\n",
        "# Converting string values to numbers\n",
        "ohe = OneHotEncoder(sparse_output=False, handle_unknown='ignore')"
      ]
    },
    {
      "cell_type": "markdown",
      "id": "f53fab2d",
      "metadata": {
        "id": "f53fab2d"
      },
      "source": [
        "### Ordinal Encoding\n",
        "If there is an order to the words, such as 'Low', 'Medium', 'High', then we can encode them as ordered numbers: {'Low':0, 'Medium': 1, 'High': 2)."
      ]
    },
    {
      "cell_type": "code",
      "execution_count": null,
      "id": "b1dae11c",
      "metadata": {
        "id": "b1dae11c"
      },
      "outputs": [],
      "source": [
        "# Import Ordinal Encoder from sklearn\n",
        "from sklearn.preprocessing import OrdinalEncoder\n",
        "\n"
      ]
    }
  ],
  "metadata": {
    "kernelspec": {
      "display_name": "Python (dojo-env)",
      "language": "python",
      "name": "dojo-env"
    },
    "language_info": {
      "codemirror_mode": {
        "name": "ipython",
        "version": 3
      },
      "file_extension": ".py",
      "mimetype": "text/x-python",
      "name": "python",
      "nbconvert_exporter": "python",
      "pygments_lexer": "ipython3",
      "version": "3.9.15"
    },
    "toc": {
      "base_numbering": 1,
      "nav_menu": {},
      "number_sections": false,
      "sideBar": true,
      "skip_h1_title": false,
      "title_cell": "Table of Contents",
      "title_sidebar": "Contents",
      "toc_cell": false,
      "toc_position": {},
      "toc_section_display": true,
      "toc_window_display": true
    },
    "colab": {
      "provenance": [],
      "include_colab_link": true
    }
  },
  "nbformat": 4,
  "nbformat_minor": 5
}