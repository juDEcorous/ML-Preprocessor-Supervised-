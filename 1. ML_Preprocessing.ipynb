{
 "cells": [
  {
   "cell_type": "markdown",
   "id": "1a57c7e3",
   "metadata": {},
   "source": [
    "# ML Preprocessing\n",
    "\n",
    "(NOTE: This is for lesson purpose only.)\n",
    "\n",
    "Supervised Learning\n",
    "- <i>The goal of supervised learning problems is to be able to make predictions based on the dataset you are provided. Which model performs well on new data.\n",
    "- Has a target variable to learn patterns, fitting a “if this - then that” pattern.\n",
    "\n",
    "## Feature Matrix and Target Vector"
   ]
  },
  {
   "cell_type": "code",
   "execution_count": null,
   "id": "533ee90e",
   "metadata": {},
   "outputs": [],
   "source": [
    "# Target\n",
    "target = 'The target is the column we are trying to predict.'\n",
    "\n",
    "# Target Vector\n",
    "# A target vector is one dimensional and is the column you want to predict.\n",
    "# Returns type as \"Series\"\n",
    "y = df[target]\n",
    "\n",
    "# Feature Matrix\n",
    "# A features matrix is a two-dimensional grid of data \n",
    "# where rows representsamples and columns represent features.\n",
    "# returns type as \"DataFrame\"\n",
    "X = df.drop(columns = target)"
   ]
  },
  {
   "cell_type": "markdown",
   "id": "c4762727",
   "metadata": {},
   "source": [
    "## Model Validation\n",
    "Model validation is referred to as the process where a trained model is evaluated with a testing data set. The model validation procedure used in this section is called train test split. Below is how train test split works.\n",
    "- Split the dataset into two separate datasets: a training set and a testing set. The default split results in about 75% of the data going to your training set and about 25% going to your test set.\n",
    "- Train the model on the training set only!\n",
    "- Test the model on the testing set and evaluate the performance to simulate how it would do on new data that it did NOT train on."
   ]
  },
  {
   "cell_type": "code",
   "execution_count": null,
   "id": "4095486b",
   "metadata": {},
   "outputs": [],
   "source": [
    "# Import the TTS from sklearn\n",
    "from sklearn.model_selection import train_test_split\n",
    "\n",
    "# Train test split \n",
    "X_train, X_test, y_train, y_test = train_test_split(X, y, random_state=42)"
   ]
  },
  {
   "cell_type": "markdown",
   "id": "5e7f43d9",
   "metadata": {},
   "source": [
    "Four New Variables:\n",
    "\n",
    "From our original X dataframe, we get two new dataframes:\n",
    "\n",
    "<b> X_train </b> is the data we will use to train the model and contains only the features </br>\n",
    "<b> X_test </b> is the data we set aside for testing (evaluating) our model and contains only features\n",
    "\n",
    "From our original y series, we get two new series:\n",
    "\n",
    "<b>y_train</b> contains the target values for the data corresponding to the X_train features</br>\n",
    "<b>y_test</b> contains the target values for the data we have set aside for testing corresponding to the X_test feautres"
   ]
  },
  {
   "cell_type": "markdown",
   "id": "847b1ea2",
   "metadata": {},
   "source": [
    "## Missing Values\n",
    "Instantiate an Imputer </br>\n",
    "Strategies:\n",
    "1. Mean\n",
    "2. Median\n",
    "4. Most Frequent\n",
    "4. Constant (fill_value = 'Value')"
   ]
  },
  {
   "cell_type": "code",
   "execution_count": null,
   "id": "8255ee6a",
   "metadata": {},
   "outputs": [],
   "source": [
    "# Import SimpleImputer from sklearn\n",
    "from sklearn.imputer import SimpleImputer\n",
    "\n",
    "# Imputer using mean value\n",
    "mean_imputer = SimpleImputer(strategy = 'mean')\n",
    "\n",
    "#Imputer using median value\n",
    "median_imputer = SimpleImputer(strategy = 'median')\n",
    "\n",
    "#Imputer using most frequent values\n",
    "freq_imputer = SimpleImputer(strategy = 'most_frequent')\n",
    "\n",
    "#Imputer using \"missing\" as value\n",
    "missing_imputer = SimpleImputer(strategy = 'constant', fill_value = 'Missing')"
   ]
  },
  {
   "cell_type": "markdown",
   "id": "d6cedd5d",
   "metadata": {},
   "source": [
    "Three Types of Features\n",
    "1. <b>Numeric Features</b> are integers or floats that represent a quantity. They can also be referred to as quantitative features.\n",
    "2. <b>Ordinal Features</b> are categories that represent different classes and that have a distinct ordering. They can be strings or integers if the integer represents an ordered class.\n",
    "3.<b> Categorical Features</b> (nominal) are categories that represent different classes. They are not ordered.They can be strings or integers if the integer represents a non-ordered class."
   ]
  },
  {
   "cell_type": "markdown",
   "id": "58036004",
   "metadata": {},
   "source": [
    "## Transforming Features for Machine learning\n",
    "\n",
    "In order for features to be interpreted by a machine learning algorithm, the data must be in a numeric form (integers or floats).\n",
    "\n",
    "<b>Transforming Numeric Features \n",
    "\n",
    "These are already in a numeric format so can be used without further transformation. However, it is very common and sometimes required, to scale numerical features.\n",
    "\n",
    "<b>Transforming Ordinal Features\n",
    "\n",
    "If they are strings, they will need to be mapped to numeric values representing the order of the classes. </br>\n",
    "0 is small, 1 is medium, 2 is large, and 3 is extra large.\n",
    "\n",
    "<b>Transforming Categorical (Nominal) Features\n",
    "\n",
    "You need to be careful when your categories are unordered. It is not sufficient to simply map each class to a number as can be done with ordinal features. This is because machine learning models will interpret higher numbers as having a higher value than lower numbers. To deal with this, we can one-hot encode our categories. What this does is creates a binary column for each class in the column."
   ]
  },
  {
   "cell_type": "markdown",
   "id": "1cb6e73e",
   "metadata": {},
   "source": [
    "### Standardizing Data \n",
    "When the scaler fits on data it calculates the means and standard deviations of each feature. Then the scaler can be used to transform both the training and test sets based on the calculations done during the fit step. This means that the average and variance (standard deviation) will be calculated using only the training data because we want to keep information in the test data, including information about means and variances, reserved for only the final model evaluation. </br> The scaling of target values (y) is generally not required."
   ]
  },
  {
   "cell_type": "code",
   "execution_count": null,
   "id": "4f060f6b",
   "metadata": {},
   "outputs": [],
   "source": [
    "# Import the StandardScaler from sklearn\n",
    "from sklearn.preprocessing import StandardScaler\n",
    "\n",
    "# instantiate scaler\n",
    "scaler = StandardScaler()"
   ]
  },
  {
   "attachments": {
    "Screenshot%202023-04-19%20162214.png": {
     "image/png": "[encoded data removed]"
    }
   },
   "cell_type": "markdown",
   "id": "e85ff5cd",
   "metadata": {},
   "source": [
    "### One-Hot Encoding\n",
    "In order to represent non-ordered, or 'nominal' features, we do the following:\n",
    "1. Create a new column for every category present in the feature.\n",
    "\n",
    "2. Set the value of each of the new columns to 1 if that row corresponds to the original category.\n",
    "\n",
    "3. Set the value of each of the new columns to 0 if they do not.\n",
    "\n",
    "4. Remove the original column.\n",
    "![Screenshot%202023-04-19%20162214.png](attachment:Screenshot%202023-04-19%20162214.png)\n",
    "\n",
    "sparse = False\n",
    "\n",
    "By default, it will return what is called a 'sparse matrix'. This is a form of data compression used when arrays are mostly filled with 0s. Instead of keeping track of so many 0s, the compressed version just has information about where the data is NOT 0. This is great for saving memory! But not great if we want to use the data in a new dataframe. We can get OneHotEncoder to return a normal array that is compatible with pandas, called a ‘Dense’ array by specifying ‘sparse=False’ inside our OneHotEncoder.\n",
    "\n",
    "handle_unknown ='ignore'\n",
    "\n",
    "OneHotEncoder is a transformer like StandardScaler. When we use it we will:\n",
    "\n",
    "1. Fit the OneHotEncoder ONLY on the categorical training data.\n",
    "\n",
    "2. Transform the categorical training data to a one-hot encoded form.\n",
    "\n",
    "3. Transform the categorical testing data to a one-hot encoded form."
   ]
  },
  {
   "cell_type": "code",
   "execution_count": null,
   "id": "8bd889dc",
   "metadata": {},
   "outputs": [],
   "source": [
    "# Import One-Hot Encoder from sklearn\n",
    "from sklearn.preprocessing import OneHotEncoder\n",
    "\n",
    "# Converting string values to numbers\n",
    "ohe = OneHotEncoder(sparse_output=False, handle_unknown='ignore')"
   ]
  },
  {
   "cell_type": "markdown",
   "id": "f53fab2d",
   "metadata": {},
   "source": [
    "### Ordinal Encoding\n",
    "If there is an order to the words, such as 'Low', 'Medium', 'High', then we can encode them as ordered numbers: {'Low':0, 'Medium': 1, 'High': 2)."
   ]
  },
  {
   "cell_type": "code",
   "execution_count": null,
   "id": "b1dae11c",
   "metadata": {},
   "outputs": [],
   "source": [
    "# Import Ordinal Encoder from sklearn\n",
    "from sklearn.preprocessing import OrdinalEncoder\n",
    "\n",
    "# Make a list for Ordinal Column features\n",
    "List1 = ['Low', 'Medium', 'High', 'Very High']\n",
    "List2 = ['Small', 'Medium', 'Large']\n",
    "\n",
    "# Instantiate Ordinal Encoders and scaler\n",
    "ordinal_encoder = OrdinalEncoder(categories = [List1, List2])\n",
    "scaler2 = StandardScaler()"
   ]
  },
  {
   "cell_type": "markdown",
   "id": "fc8dc6b4",
   "metadata": {},
   "source": [
    "# Pipeline\n",
    "A pipeline contains multiple transformers (or even models!) and performs operations on data IN SEQUENCE. </br>\n",
    "When data is transformed using a pipeline, the data is transformed by the first transformer first, the second transformer second, etc. A pipeline can contain any number of transformers as long as they have .fit() and .transform() methods. These are called 'steps'.</br>\n",
    "The important thing to remember is that pipelines are ordered, so the order you use to build them matters.\n",
    "\n",
    "<b>Why Should I Use Pipelines for Machine Learning?\n",
    "Reasons to use pipelines:\n",
    "\n",
    "1. Pipelines use less code than doing each transformer individually. Since each transformer is fit in a single .fit() call, and the data is transformed by all of the transformers in the pipeline in a single .transform() call, pipelines use significantly less code.\n",
    "2. Pipelines make your preprocessing workflow easier to understand. By reducing the code and displaying a diagram of the pipeline you can show your readers clearly how your data is being transformed before modeling.\n",
    "3. Pipelines are easy to use in production models. When you are ready to deploy your model to use in new data, a preprocessing pipeline can ensure that new data can be quickly and easily preprocessed for modeling.\n",
    "4. Pipelines can prevent data leakage. Pipelines are designed to only be fit on training data. Later you will learn a technique called 'cross-validation' and pipelines will simplify performing this without leaking data."
   ]
  },
  {
   "cell_type": "code",
   "execution_count": null,
   "id": "38690daa",
   "metadata": {},
   "outputs": [],
   "source": [
    "# Import pipeline from sklearn\n",
    "from sklearn.pipeline import make_pipeline\n",
    "\n",
    "# combine the imputer and the scaler into a pipeline\n",
    "# Imputer first\n",
    "numerical_pipeline = make_pipeline(median_imputer, scaler)\n",
    "nonimal_pipeline = make_pipeline(missing_imputer, ohe)\n",
    "ordinal_pipeline = make_pipeline(freq_imputer, ordinal_encoder, scaler2)\n",
    "\n",
    "# Make tuples\n",
    "numerical_tuples = (numerical_pipeline, numerical_colums)\n",
    "nominal_pipeline = (nominal_pipeline, nominal_columns)\n",
    "ordinal_pipeline = (ordinal_pipeline, ordinal_columns)"
   ]
  },
  {
   "cell_type": "markdown",
   "id": "a70e0141",
   "metadata": {},
   "source": [
    "# Column Transformer"
   ]
  },
  {
   "cell_type": "code",
   "execution_count": null,
   "id": "765aaeb6",
   "metadata": {},
   "outputs": [],
   "source": [
    "# Import Column Transformer from sklearn\n",
    "from sklearn.compose import make_column_transformer\n",
    "\n",
    "preprocessor = make_column_transformer(numerical_tuples, nominal_pipeline, \n",
    "                                       ordinal_pipeline, remainder='drop)"
   ]
  }
 ],
 "metadata": {
  "kernelspec": {
   "display_name": "Python (dojo-env)",
   "language": "python",
   "name": "dojo-env"
  },
  "language_info": {
   "codemirror_mode": {
    "name": "ipython",
    "version": 3
   },
   "file_extension": ".py",
   "mimetype": "text/x-python",
   "name": "python",
   "nbconvert_exporter": "python",
   "pygments_lexer": "ipython3",
   "version": "3.9.15"
  },
  "toc": {
   "base_numbering": 1,
   "nav_menu": {},
   "number_sections": false,
   "sideBar": true,
   "skip_h1_title": false,
   "title_cell": "Table of Contents",
   "title_sidebar": "Contents",
   "toc_cell": false,
   "toc_position": {},
   "toc_section_display": true,
   "toc_window_display": true
  }
 },
 "nbformat": 4,
 "nbformat_minor": 5
}
